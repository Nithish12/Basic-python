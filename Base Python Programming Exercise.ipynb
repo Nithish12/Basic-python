{
 "cells": [
  {
   "cell_type": "markdown",
   "metadata": {},
   "source": [
    "## Python Basic Programming Exercises"
   ]
  },
  {
   "cell_type": "raw",
   "metadata": {},
   "source": [
    "Q1: What is the output of following expression\n",
    "    5 + 4 * 9 % (3 + 1) / 6 - 1"
   ]
  },
  {
   "cell_type": "code",
   "execution_count": 1,
   "metadata": {},
   "outputs": [
    {
     "data": {
      "text/plain": [
       "4.0"
      ]
     },
     "execution_count": 1,
     "metadata": {},
     "output_type": "execute_result"
    }
   ],
   "source": [
    "5 + 4 * 9 % (3 + 1) / 6 - 1"
   ]
  },
  {
   "cell_type": "raw",
   "metadata": {},
   "source": [
    "Q2: Write a program to check if a Number is Odd or Even. Take number as a input from user at runtime."
   ]
  },
  {
   "cell_type": "code",
   "execution_count": 21,
   "metadata": {},
   "outputs": [
    {
     "name": "stdout",
     "output_type": "stream",
     "text": [
      "Enter the number : 7\n",
      "The number is odd\n"
     ]
    }
   ],
   "source": [
    "x = int(input(\"Enter the number : \")) \n",
    "\n",
    "if x==0:\n",
    "    print(\"Not Defined\")\n",
    "elif x % 2 == 0:\n",
    "    print('The number is even')\n",
    "else:\n",
    "    print('The number is odd')"
   ]
  },
  {
   "cell_type": "raw",
   "metadata": {},
   "source": [
    "Q3: Write a program to display the multiplication table by taking a number as input. \n",
    "    [Hint : Use print statement inside of a loop]"
   ]
  },
  {
   "cell_type": "code",
   "execution_count": 24,
   "metadata": {},
   "outputs": [
    {
     "name": "stdout",
     "output_type": "stream",
     "text": [
      "Enter the number : 5\n",
      "5*1 == 5\n",
      "5*2 == 10\n",
      "5*3 == 15\n",
      "5*4 == 20\n",
      "5*5 == 25\n",
      "5*6 == 30\n",
      "5*7 == 35\n",
      "5*8 == 40\n",
      "5*9 == 45\n",
      "5*10 == 50\n"
     ]
    }
   ],
   "source": [
    "a = int(input(\"Enter the number : \")) \n",
    "\n",
    "for i in range(1,11):\n",
    "    print(f'{a}*{i} == {a*i}')"
   ]
  },
  {
   "cell_type": "raw",
   "metadata": {},
   "source": [
    "Q4: Write a program which will find all numbers between 2000 and 3200 which are divisible by 7 \n",
    "    but are not a multiple of 5.\n",
    " \n",
    "Note: The numbers obtained should be printed in a comma-separated sequence on a single line."
   ]
  },
  {
   "cell_type": "code",
   "execution_count": 37,
   "metadata": {},
   "outputs": [
    {
     "name": "stdout",
     "output_type": "stream",
     "text": [
      "[2002, 2009, 2016, 2023, 2037, 2044, 2051, 2058, 2072, 2079, 2086, 2093, 2107, 2114, 2121, 2128, 2142, 2149, 2156, 2163, 2177, 2184, 2191, 2198, 2212, 2219, 2226, 2233, 2247, 2254, 2261, 2268, 2282, 2289, 2296, 2303, 2317, 2324, 2331, 2338, 2352, 2359, 2366, 2373, 2387, 2394, 2401, 2408, 2422, 2429, 2436, 2443, 2457, 2464, 2471, 2478, 2492, 2499, 2506, 2513, 2527, 2534, 2541, 2548, 2562, 2569, 2576, 2583, 2597, 2604, 2611, 2618, 2632, 2639, 2646, 2653, 2667, 2674, 2681, 2688, 2702, 2709, 2716, 2723, 2737, 2744, 2751, 2758, 2772, 2779, 2786, 2793, 2807, 2814, 2821, 2828, 2842, 2849, 2856, 2863, 2877, 2884, 2891, 2898, 2912, 2919, 2926, 2933, 2947, 2954, 2961, 2968, 2982, 2989, 2996, 3003, 3017, 3024, 3031, 3038, 3052, 3059, 3066, 3073, 3087, 3094, 3101, 3108, 3122, 3129, 3136, 3143, 3157, 3164, 3171, 3178, 3192, 3199]\n"
     ]
    }
   ],
   "source": [
    "def find_numbers():\n",
    "    numbers=[]\n",
    "    for i in range(2000, 3201):\n",
    "        if i % 7 == 0 and i % 5 != 0:\n",
    "            numbers.append(i)\n",
    "    return numbers\n",
    "\n",
    "b=find_numbers()\n",
    "print(b)"
   ]
  },
  {
   "cell_type": "raw",
   "metadata": {},
   "source": [
    "Q5: Count the elements of each datatype inside the list and display in output\n",
    "    [2, 3, 'Py', '10', 1, 'SQL', 5.5, True, 3, 'John', None, 7]    "
   ]
  },
  {
   "cell_type": "code",
   "execution_count": 103,
   "metadata": {},
   "outputs": [
    {
     "name": "stdout",
     "output_type": "stream",
     "text": [
      "int: 5\n",
      "str: 4\n",
      "float: 1\n",
      "bool: 1\n",
      "NoneType: 1\n"
     ]
    }
   ],
   "source": [
    "def count_data_types(list):\n",
    "    data_type_counts = {}\n",
    "    for item in list:\n",
    "        data_type = type(item).__name__\n",
    "        if data_type in data_type_counts:\n",
    "            data_type_counts[data_type] += 1\n",
    "        else:\n",
    "            data_type_counts[data_type] = 1\n",
    "    return data_type_counts\n",
    "\n",
    "the_list = [2, 3, 'Py', '10', 1, 'SQL', 5.5, True, 3, 'John', None, 7]    \n",
    "result = count_data_types(the_list)\n",
    "for data_type, count in result.items():\n",
    "    print(f\"{data_type}: {count}\")\n"
   ]
  },
  {
   "cell_type": "raw",
   "metadata": {},
   "source": [
    "Q6: Add all values from the list with numeric datatypes \n",
    "    [2, 3, 'Py', '10', 1, 'SQL', 5.5, True, 3, 'John', None, 7] "
   ]
  },
  {
   "cell_type": "code",
   "execution_count": 22,
   "metadata": {},
   "outputs": [
    {
     "name": "stdout",
     "output_type": "stream",
     "text": [
      "Sum of numeric datatypes is: 22.5\n"
     ]
    }
   ],
   "source": [
    "def sum_numeric_datatypes(lst):\n",
    "    total = 0\n",
    "    for item in lst:\n",
    "        if isinstance(item, (int, float)):\n",
    "            total = total + item\n",
    "    return total\n",
    "\n",
    "\n",
    "the_list = [2, 3, 'Py', '10', 1, 'SQL', 5.5, True, 3, 'John', None, 7] \n",
    "result = sum_numeric_datatypes(the_list)\n",
    "print(\"Sum of numeric datatypes is:\", result)\n"
   ]
  },
  {
   "cell_type": "code",
   "execution_count": 21,
   "metadata": {},
   "outputs": [
    {
     "data": {
      "text/plain": [
       "2"
      ]
     },
     "execution_count": 21,
     "metadata": {},
     "output_type": "execute_result"
    }
   ],
   "source": [
    "def nsum(num):\n",
    "    for i in range(num):\n",
    "        num = num + i\n",
    "        \n",
    "        return num\n",
    "    \n",
    "nsum(2)"
   ]
  },
  {
   "cell_type": "raw",
   "metadata": {},
   "source": [
    "Q7: Concat all str datatypes with hyphen as a delimiter\n",
    "    [2, 3, 'Py', '10', 1, 'SQL', 5.5, True, 3, 'John', None, 7] "
   ]
  },
  {
   "cell_type": "code",
   "execution_count": 20,
   "metadata": {},
   "outputs": [
    {
     "name": "stdout",
     "output_type": "stream",
     "text": [
      "concated str datatypes will be: ['Py-10-SQL-John']\n"
     ]
    }
   ],
   "source": [
    "the_list = [2, 3, 'Py', '10', 1, 'SQL', 5.5, True, 3, 'John', None, 7] \n",
    "concatenated_string = \"-\".join(str(item) for item in the_list if isinstance(item,str))\n",
    "the_list = [concatenated_string] \n",
    "print(\"concated str datatypes will be:\", the_list)"
   ]
  },
  {
   "cell_type": "raw",
   "metadata": {},
   "source": [
    "Q8: Write a UDF that takes list as input and returns sum of all numbers \n",
    "    (exclude bool) and count of all str \n",
    "    [2, 3, 'Py', '10', 1, 'SQL', 5.5, True, 3, 'John', None, 7] \n",
    "    \n",
    "Hint:\n",
    "-----\n",
    "def my_func:\n",
    "    # your code\n",
    "        \n",
    "my_func(l1)\n",
    "# output --> {'Sum': xxx, 'Count_of_Strs': xxx}"
   ]
  },
  {
   "cell_type": "code",
   "execution_count": 15,
   "metadata": {},
   "outputs": [
    {
     "name": "stdout",
     "output_type": "stream",
     "text": [
      "Sum of numbers: 22.5\n",
      "Count of strings: 4\n"
     ]
    }
   ],
   "source": [
    "def my_func(list):\n",
    "    count_of_strings = 0 \n",
    "    total = 0\n",
    "    for item in list:\n",
    "        if isinstance(item, (int, float)):\n",
    "            total = total + item\n",
    "        elif isinstance(item, str):\n",
    "                count_of_strings += 1\n",
    "        \n",
    "    return total, count_of_strings       \n",
    "\n",
    "l1 = [2, 3, 'Py', '10', 1, 'SQL', 5.5, True, 3, 'John', None, 7]    \n",
    "result = my_func(l1)\n",
    "print(\"Sum of numbers:\", result[0])\n",
    "print(\"Count of strings:\", result[1])"
   ]
  },
  {
   "cell_type": "raw",
   "metadata": {},
   "source": [
    "Q9: Get only odd numbers from the following list and store the numbers in new list\n",
    "    li = [5, 7, 22, 97, 54, 62, 77, 23, 73, 61]\n",
    "\n",
    "    i. Use loops to get the answer\n",
    "   ii. Use list comprehensions\n",
    "  iii. Use lambda function with filter"
   ]
  },
  {
   "cell_type": "code",
   "execution_count": 20,
   "metadata": {},
   "outputs": [
    {
     "name": "stdout",
     "output_type": "stream",
     "text": [
      "[5, 7, 97, 77, 23, 73, 61]\n"
     ]
    }
   ],
   "source": [
    "#i. Use loops to get the answer\n",
    "\n",
    "li = [5, 7, 22, 97, 54, 62, 77, 23, 73, 61]\n",
    "odd_numbers_list = []\n",
    "for item in li:\n",
    "    if item % 2 != 0:\n",
    "        odd_numbers_list.append(item)\n",
    "        \n",
    "print(odd_numbers_list)                "
   ]
  },
  {
   "cell_type": "code",
   "execution_count": 24,
   "metadata": {},
   "outputs": [
    {
     "name": "stdout",
     "output_type": "stream",
     "text": [
      "[5, 7, 97, 77, 23, 73, 61]\n"
     ]
    }
   ],
   "source": [
    "#ii. Use list comprehensions\n",
    "\n",
    "li = [5, 7, 22, 97, 54, 62, 77, 23, 73, 61]\n",
    "odd_numbers_list = [item for item in li if item % 2 != 0]\n",
    "\n",
    "print(odd_numbers_list)"
   ]
  },
  {
   "cell_type": "code",
   "execution_count": 1,
   "metadata": {},
   "outputs": [
    {
     "name": "stdout",
     "output_type": "stream",
     "text": [
      "[5, 7, 97, 77, 23, 73, 61]\n"
     ]
    }
   ],
   "source": [
    "#iii. Use lambda function with filter\n",
    "\n",
    "li = [5, 7, 22, 97, 54, 62, 77, 23, 73, 61]\n",
    "odd_numbers_list = list(filter(lambda item : item % 2 != 0, li))\n",
    "\n",
    "print(odd_numbers_list)"
   ]
  },
  {
   "cell_type": "raw",
   "metadata": {},
   "source": [
    "Q10: Write a UDF to return the descriptives [sum, count, min, mean, max] for a list of n number of input \n",
    "    numbers."
   ]
  },
  {
   "cell_type": "code",
   "execution_count": 23,
   "metadata": {},
   "outputs": [
    {
     "name": "stdout",
     "output_type": "stream",
     "text": [
      "Enter the list of numbers : 623 234 876 234 987 765 98.3\n",
      "Sum: 3817.3\n",
      "Count: 7\n",
      "Min: 98.3\n",
      "Max: 987.0\n",
      "Mean: 545.3285714285714\n"
     ]
    }
   ],
   "source": [
    "n = input(\"Enter the list of numbers : \") \n",
    "numbers = n.split()\n",
    "numbers = [float(num) for num in numbers]\n",
    "\n",
    "def my_agg_func(numbers):\n",
    "    total = sum(numbers)\n",
    "    count = len(numbers)\n",
    "    minimum = min(numbers)\n",
    "    maximum = max(numbers)\n",
    "    mean = total/count\n",
    "    return total, count, minimum, maximum, mean\n",
    "\n",
    "\n",
    "result = my_agg_func(numbers)\n",
    "print(\"Sum:\", result[0])\n",
    "print(\"Count:\", result[1])\n",
    "print(\"Min:\", result[2])\n",
    "print(\"Max:\", result[3])\n",
    "print(\"Mean:\", result[4])"
   ]
  },
  {
   "cell_type": "raw",
   "metadata": {},
   "source": [
    "Q11: Write an udf to calculate the area of different shapes\n",
    "\n",
    "Take shape and dimensions as arguments to udf as follows : \n",
    "\n",
    "1. square which has side\n",
    "2. rectangle which has length and width\n",
    "3. circle which has radius\n",
    "\n",
    "The shape should be a positional argument and it's dimensions are taken as kwargs\n",
    "\n",
    "Perform proper validation for the user inputs and then calculate area.\n",
    "\n",
    "E.g. if shape is square, ensure kwargs has \"side\" and if so, then you may return the area, else display appropriate error message like \"Please enter 'side' for a square\""
   ]
  },
  {
   "cell_type": "code",
   "execution_count": 8,
   "metadata": {},
   "outputs": [
    {
     "name": "stdout",
     "output_type": "stream",
     "text": [
      "Square area: 25\n",
      "Rectangle area: 15\n",
      "Circle area: 78.53981633974483\n"
     ]
    }
   ],
   "source": [
    "import math\n",
    "\n",
    "def area(shape, **dimensions):\n",
    "    if shape == 'square':\n",
    "        side = dimensions.get('side')\n",
    "        if side is None or side <= 0:\n",
    "            print(\"Side length is required and should be greater than 0 for a square.\")\n",
    "            return None\n",
    "        area = side ** 2\n",
    "        return area\n",
    "    \n",
    "    if shape == 'rectangle':\n",
    "        length = dimensions.get('length')\n",
    "        breadth = dimensions.get('breadth')\n",
    "        if length is None or length <= 0 or breadth is None or breadth <= 0:\n",
    "            print(\"Length and breadth are required and should be greater than 0 for a rectangle.\")\n",
    "            return None\n",
    "        area = length * breadth\n",
    "        return area\n",
    "    \n",
    "    if shape == 'circle':\n",
    "        radius = dimensions.get('radius')\n",
    "        if radius is None or radius <= 0:\n",
    "            print(\"Radius is required and should be greater than 0 for a circle.\")\n",
    "            return None\n",
    "        area = math.pi * radius**2\n",
    "        return area\n",
    "    \n",
    "    print(\"Invalid input.\")\n",
    "    return None\n",
    "\n",
    "square = area('square', side=5)\n",
    "if square is not None:\n",
    "    print(\"Square area:\", square)\n",
    "\n",
    "rectangle = area('rectangle', length=3, breadth=5)\n",
    "if rectangle is not None:\n",
    "    print(\"Rectangle area:\", rectangle)\n",
    "\n",
    "circle = area('circle', radius=5)\n",
    "if circle is not None:\n",
    "    print(\"Circle area:\", circle)\n"
   ]
  },
  {
   "cell_type": "raw",
   "metadata": {},
   "source": [
    "Q12: Write a UDF to reconcile the values within two lists.\n",
    "    l1 = ['January', 'February', 'March', 'May', 'June', 'September', 'December']\n",
    "    l2 = ['January', 'February', 'April', 'June', 'October', 'December']\n",
    "\n",
    "Hint:\n",
    "-----\n",
    "def func(l1, l2):\n",
    "    your code here...\n",
    "    \n",
    "Output:\n",
    "{'Matched': ['January', 'February', 'June', 'December'],\n",
    "    'Only in l1': ['March', 'May', 'September'],\n",
    "        'Only in l2': ['April', 'October']}"
   ]
  },
  {
   "cell_type": "code",
   "execution_count": 23,
   "metadata": {},
   "outputs": [
    {
     "name": "stdout",
     "output_type": "stream",
     "text": [
      "{'Matched': ['February', 'June', 'December', 'January'], 'only_in_l1': ['March', 'May', 'September'], 'only_in_l2': ['October', 'April']}\n"
     ]
    }
   ],
   "source": [
    "def reconciled_lists(l1, l2):\n",
    "    \n",
    "    Matched = list(set(l1).intersection(l2))\n",
    "    only_in_l1 = list(set(l1).difference(l2))\n",
    "    only_in_l2 = list(set(l2).difference(l1))\n",
    "    \n",
    "    result={\n",
    "        'Matched' : Matched,\n",
    "        'only_in_l1' : only_in_l1,\n",
    "        'only_in_l2' : only_in_l2\n",
    "        }\n",
    "    return result\n",
    "\n",
    "l1 = ['January', 'February', 'March', 'May', 'June', 'September', 'December']\n",
    "l2 = ['January', 'February', 'April', 'June', 'October', 'December']    \n",
    "Matched = reconciled_lists(l1,l2)\n",
    "print(Matched)"
   ]
  },
  {
   "cell_type": "raw",
   "metadata": {
    "collapsed": true
   },
   "source": [
    "Q13: write a UDF to check if a number is prime or not."
   ]
  },
  {
   "cell_type": "code",
   "execution_count": 25,
   "metadata": {},
   "outputs": [
    {
     "name": "stdout",
     "output_type": "stream",
     "text": [
      "number : 12\n",
      "12  is not a prime number.\n"
     ]
    }
   ],
   "source": [
    "def is_prime(number):\n",
    "    if number <= 0:\n",
    "        return False\n",
    "\n",
    "    for i in range(2, int(number ** 0.5) + 1):\n",
    "        if number % i == 0:\n",
    "            return False\n",
    "\n",
    "    return True\n",
    "\n",
    "prime = int(input(\"number : \"))\n",
    "\n",
    "if is_prime(prime):\n",
    "    print(prime, \" is a prime number.\")\n",
    "else:\n",
    "    print(prime, \" is not a prime number.\")"
   ]
  },
  {
   "cell_type": "raw",
   "metadata": {
    "collapsed": true
   },
   "source": [
    "Q14. Write a program which can compute the factorial of a given numbers. \n",
    "#   The results should be printed in a comma-separated sequence on a single line. \n",
    "# input() function can be used for getting user(console) input\n",
    "\n",
    "\n",
    "#Suppose the input is supplied to the program:  8  \n",
    "#Then, the output should be:  40320 \n",
    "#Hints: In case of input data being supplied to the question, it should be assumed to be a console input. \n"
   ]
  },
  {
   "cell_type": "code",
   "execution_count": 3,
   "metadata": {},
   "outputs": [
    {
     "name": "stdout",
     "output_type": "stream",
     "text": [
      "Enter a number: 8\n"
     ]
    },
    {
     "data": {
      "text/plain": [
       "40320"
      ]
     },
     "execution_count": 3,
     "metadata": {},
     "output_type": "execute_result"
    }
   ],
   "source": [
    "def fact(number):\n",
    "    if number < 0:\n",
    "        return None\n",
    "    elif number == 0:\n",
    "        return 1\n",
    "    else:\n",
    "        fact = 1\n",
    "        for i in range(1, number + 1):\n",
    "            fact = fact*i\n",
    "        return fact\n",
    "\n",
    "\n",
    "num = int(input(\"Enter a number: \"))\n",
    "n=fact(num)\n",
    "n"
   ]
  },
  {
   "cell_type": "raw",
   "metadata": {
    "collapsed": true
   },
   "source": [
    "Q15. With a given integral number n, write a program to generate a dictionary that contains (i, i*i) such that is an integral number between 1 and n (both included). and then the program should print the dictionary.\n",
    "\n",
    "#Suppose the following input is supplied to the program: 8\n",
    "#Then, the output should be: {1: 1, 2: 4, 3: 9, 4: 16, 5: 25, 6: 36, 7: 49, 8: 64}\n",
    "#Hints: In case of input data being supplied to the question, it should be assumed to be a console input. Consider using dict()\n",
    "\n"
   ]
  },
  {
   "cell_type": "code",
   "execution_count": 4,
   "metadata": {},
   "outputs": [
    {
     "name": "stdout",
     "output_type": "stream",
     "text": [
      "Enter the value of n: 8\n",
      "{1: 1, 2: 4, 3: 9, 4: 16, 5: 25, 6: 36, 7: 49, 8: 64}\n"
     ]
    }
   ],
   "source": [
    "number = int(input('Enter the value of n: '))\n",
    "def dict(n):\n",
    "    \n",
    "    dictionary = {}\n",
    "    \n",
    "    for i in range(1,n+1):\n",
    "        dictionary[i] = i**2\n",
    "    return dictionary\n",
    "\n",
    "result = dict(number)\n",
    "print(result)"
   ]
  },
  {
   "cell_type": "raw",
   "metadata": {
    "collapsed": true
   },
   "source": [
    "Q16. Write a program which accepts a sequence of comma-separated numbers from console and generate a list and a tuple which contains every number.\n",
    "#Suppose the following input is supplied to the program: 34,67,55,33,12,98\n",
    "    #Then, the output should be: ['34', '67', '55', '33', '12', '98'] ('34', '67', '55', '33', '12', '98')\n",
    "\n",
    "#Hints: In case of input data being supplied to the question, it should be assumed to be a console input. you may use tuple() method to convert list to tuple\n"
   ]
  },
  {
   "cell_type": "code",
   "execution_count": 1,
   "metadata": {},
   "outputs": [
    {
     "name": "stdout",
     "output_type": "stream",
     "text": [
      "Enter the numbers: 34,67,55,33,12,98\n",
      "['34', '67', '55', '33', '12', '98']\n",
      "('34', '67', '55', '33', '12', '98')\n"
     ]
    }
   ],
   "source": [
    "n = input('Enter the numbers: ')\n",
    "a = n.split(',')\n",
    "\n",
    "b = tuple(a)\n",
    "\n",
    "print(a, b, sep='\\n')"
   ]
  },
  {
   "cell_type": "raw",
   "metadata": {
    "collapsed": true
   },
   "source": [
    "Q17. Write a program that accepts a comma separated sequence of words as input and \n",
    "# prints the words in a comma-separated sequence after sorting them alphabetically.\n",
    "\n",
    "# Suppose the following input is supplied to the program: without,hello,bag,world\n",
    "# Then, the output should be: bag,hello,without,world\n",
    "\n",
    "#Hints: In case of input data being supplied to the question, it should be assumed to be a console input.\n"
   ]
  },
  {
   "cell_type": "code",
   "execution_count": 37,
   "metadata": {},
   "outputs": [
    {
     "name": "stdout",
     "output_type": "stream",
     "text": [
      "Enter the words in a comma seperated manner: without,hello,bag,world\n"
     ]
    },
    {
     "data": {
      "text/plain": [
       "['bag', 'hello', 'without', 'world']"
      ]
     },
     "execution_count": 37,
     "metadata": {},
     "output_type": "execute_result"
    }
   ],
   "source": [
    "alpha = input('Enter the words in a comma seperated manner: ').split(',')\n",
    "alpha.sort()\n",
    "alpha"
   ]
  },
  {
   "cell_type": "raw",
   "metadata": {
    "collapsed": true
   },
   "source": [
    "Q18. Write a program that accepts a sequence of whitespace separated words \n",
    "# as input and prints the words after removing all duplicate words and sorting them alphanumerically.\n",
    "# Suppose the following input is supplied to the program: hello world and practice makes perfect and hello world again\n",
    "# Then, the output should be: again and hello makes perfect practice world\n",
    "\n",
    "#Hints: In case of input data being supplied to the question, it should be assumed to be a console input.\n",
    "#We use set container to remove duplicated data automatically and then use sorted() to sort the data.\n"
   ]
  },
  {
   "cell_type": "code",
   "execution_count": 2,
   "metadata": {},
   "outputs": [
    {
     "name": "stdout",
     "output_type": "stream",
     "text": [
      "Enter the words in a comma seperated manner: hello world and practice makes perfect and hello world again\n"
     ]
    },
    {
     "data": {
      "text/plain": [
       "['makes', 'practice', 'again', 'world', 'hello', 'perfect', 'and']"
      ]
     },
     "execution_count": 2,
     "metadata": {},
     "output_type": "execute_result"
    }
   ],
   "source": [
    "alpha = input('Enter the words in a comma seperated manner: ').split(' ')\n",
    "alpha = list(set(alpha))\n",
    "alpha.sort\n",
    "alpha"
   ]
  },
  {
   "cell_type": "raw",
   "metadata": {
    "collapsed": true
   },
   "source": [
    "Q19. Write a program that accepts a sentence and calculate the number of upper case \n",
    "# letters and lower case letters.\n",
    "#Suppose the following input is supplied to the program: Hello world!\n",
    "#Then, the output should be: UPPER CASE 1 LOWER CASE 9\n",
    "\n",
    "#Hints: In case of input data being supplied to the question, it should be assumed to be a console input.\n"
   ]
  },
  {
   "cell_type": "code",
   "execution_count": 7,
   "metadata": {},
   "outputs": [
    {
     "name": "stdout",
     "output_type": "stream",
     "text": [
      "Enter the input:Hello world!\n",
      "1\n",
      "9\n"
     ]
    }
   ],
   "source": [
    "sentence = input('Enter the input:')\n",
    "    \n",
    "uppercase = 0\n",
    "lowercase = 0\n",
    "    \n",
    "for s in sentence:\n",
    "    if s.isupper():\n",
    "        uppercase = uppercase + 1\n",
    "    elif s.islower():\n",
    "        lowercase = lowercase + 1\n",
    "        \n",
    "print(uppercase)\n",
    "print(lowercase)"
   ]
  },
  {
   "cell_type": "raw",
   "metadata": {
    "collapsed": true
   },
   "source": [
    "Q20. Write a program that takes a string and returns reversed string. i.e. if input is \"abcd123\" output should be \"321dcba\""
   ]
  },
  {
   "cell_type": "code",
   "execution_count": 8,
   "metadata": {},
   "outputs": [
    {
     "name": "stdout",
     "output_type": "stream",
     "text": [
      "Enter the String:432\n"
     ]
    },
    {
     "data": {
      "text/plain": [
       "'234'"
      ]
     },
     "execution_count": 8,
     "metadata": {},
     "output_type": "execute_result"
    }
   ],
   "source": [
    "a_string = input('Enter the String:')\n",
    "a_string[::-1]"
   ]
  },
  {
   "cell_type": "code",
   "execution_count": null,
   "metadata": {},
   "outputs": [],
   "source": []
  }
 ],
 "metadata": {
  "kernelspec": {
   "display_name": "Python 3 (ipykernel)",
   "language": "python",
   "name": "python3"
  },
  "language_info": {
   "codemirror_mode": {
    "name": "ipython",
    "version": 3
   },
   "file_extension": ".py",
   "mimetype": "text/x-python",
   "name": "python",
   "nbconvert_exporter": "python",
   "pygments_lexer": "ipython3",
   "version": "3.10.9"
  },
  "varInspector": {
   "cols": {
    "lenName": 16,
    "lenType": 16,
    "lenVar": 40
   },
   "kernels_config": {
    "python": {
     "delete_cmd_postfix": "",
     "delete_cmd_prefix": "del ",
     "library": "var_list.py",
     "varRefreshCmd": "print(var_dic_list())"
    },
    "r": {
     "delete_cmd_postfix": ") ",
     "delete_cmd_prefix": "rm(",
     "library": "var_list.r",
     "varRefreshCmd": "cat(var_dic_list()) "
    }
   },
   "types_to_exclude": [
    "module",
    "function",
    "builtin_function_or_method",
    "instance",
    "_Feature"
   ],
   "window_display": false
  }
 },
 "nbformat": 4,
 "nbformat_minor": 2
}
